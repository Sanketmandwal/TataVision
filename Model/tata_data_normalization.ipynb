{
 "cells": [
  {
   "cell_type": "code",
   "execution_count": 1,
   "id": "6d08ef1c",
   "metadata": {},
   "outputs": [
    {
     "name": "stdout",
     "output_type": "stream",
     "text": [
      "Total posts loaded: 3741\n",
      "Example post:\n",
      "{\n",
      "  \"platform\": \"reddit\",\n",
      "  \"username\": \"IngloBlasto\",\n",
      "  \"timestamp\": \"2020-06-06T10:00:36Z\",\n",
      "  \"vehicle_model\": \"Tata Harrier\",\n",
      "  \"competitor_models\": [\n",
      "    \"Tata Safari\",\n",
      "    \"Mahindra XUV700\",\n",
      "    \"Hyundai Creta\",\n",
      "    \"Kia Seltos\"\n",
      "  ],\n",
      "  \"content\": \"[Opinion] Andh Bhakts of Tata are polluting the car reviews on Youtube. I understand that Nexon, Altroz and Harrier are great cars and safer than many competitors. I also accept that Tatas have contributed financially and otherwise for Covid and other charitable causes. That doesn't mean if I am planning to buy a car, Tata should be my only option. I feel like the YouTubers are forced to bias their opinion to satisfy their hornet subscribers with their desi-love bullshit. All I want to know is which is the better product period.\\n\\n[Samples](https://i.imgur.com/xP4Mgyi.jpg)\",\n",
      "  \"hashtags\": [],\n",
      "  \"mentions\": [],\n",
      "  \"emojis\": [],\n",
      "  \"location\": {\n",
      "    \"profile_location\": null,\n",
      "    \"geo_location\": null,\n",
      "    \"nlp_location\": null,\n",
      "    \"final_location\": null,\n",
      "    \"tier\": null,\n",
      "    \"country\": \"India\",\n",
      "    \"state\": null,\n",
      "    \"city\": null\n",
      "  },\n",
      "  \"sentiment\": {\n",
      "    \"label\": \"positive\",\n",
      "    \"score\": 0.43\n",
      "  },\n",
      "  \"keywords\": [\n",
      "    \"opinion\",\n",
      "    \"andh\",\n",
      "    \"bhakts\",\n",
      "    \"tata\",\n",
      "    \"are\",\n",
      "    \"polluting\"\n",
      "  ],\n",
      "  \"aspects\": [],\n",
      "  \"intent\": \"praise\",\n",
      "  \"embedding\": null,\n",
      "  \"embedding_model\": null,\n",
      "  \"processed_at\": \"2025-10-03T17:04:06.375975Z\",\n",
      "  \"source_id\": \"reddit:d5ffda81e38d\"\n",
      "}\n"
     ]
    }
   ],
   "source": [
    "import json\n",
    "\n",
    "# Load sample data\n",
    "with open(\"tata_data.jsonl\", \"r\", encoding=\"utf-8\") as f:\n",
    "    data = [json.loads(line) for line in f]\n",
    "\n",
    "print(f\"Total posts loaded: {len(data)}\")\n",
    "print(\"Example post:\")\n",
    "print(json.dumps(data[0], indent=2))\n"
   ]
  },
  {
   "cell_type": "code",
   "execution_count": 3,
   "id": "2b7c377c",
   "metadata": {},
   "outputs": [
    {
     "name": "stdout",
     "output_type": "stream",
     "text": [
      "opinion andh bhakts of tata are polluting the car reviews on youtube. i understand that nexon, altroz and harrier are great cars and safer than many competitors. i also accept that tatas have contributed financially and otherwise for covid and other charitable causes. that doesnt mean if i am planning to buy a car, tata should be my only option. i feel like the youtubers are forced to bias their opinion to satisfy their hornet subscribers with their desilove bullshit. all i want to know is which is the better product period. samples\n"
     ]
    }
   ],
   "source": [
    "import re\n",
    "\n",
    "def clean_text(text):\n",
    "    \n",
    "    text = re.sub(r\"http\\S+|www\\S+\", \"\", text)\n",
    "    \n",
    "    text = re.sub(r\"@\\w+\", \"\", text)\n",
    "    # Remove hashtags (keep the word)\n",
    "    text = re.sub(r\"#\", \"\", text)\n",
    "    # Optional: remove emojis\n",
    "    text = re.sub(r\"[^\\w\\s,.!?]\", \"\", text)\n",
    "    # Normalize spaces\n",
    "    text = re.sub(r\"\\s+\", \" \", text).strip()\n",
    "    return text.lower()\n",
    "\n",
    "# Apply cleaning\n",
    "for post in data:\n",
    "    post[\"clean_content\"] = clean_text(post[\"content\"])\n",
    "\n",
    "# Example\n",
    "print(data[0][\"clean_content\"])\n"
   ]
  },
  {
   "cell_type": "code",
   "execution_count": 4,
   "id": "9995f508",
   "metadata": {},
   "outputs": [
    {
     "name": "stdout",
     "output_type": "stream",
     "text": [
      "Updated sample_posts.jsonl with cleaned content successfully!\n",
      "opinion andh bhakts of tata are polluting the car reviews on youtube. i understand that nexon, altroz and harrier are great cars and safer than many competitors. i also accept that tatas have contributed financially and otherwise for covid and other charitable causes. that doesnt mean if i am planning to buy a car, tata should be my only option. i feel like the youtubers are forced to bias their opinion to satisfy their hornet subscribers with their desilove bullshit. all i want to know is which is the better product period. samples\n",
      "tata harrier launched in india at rs 12.69 lakhs. tata harrier launched in india at rs 12.69 lakhs\n"
     ]
    }
   ],
   "source": [
    "import re\n",
    "import json\n",
    "def clean_text(text):\n",
    "    # Remove URLs\n",
    "    text = re.sub(r\"http\\S+|www\\S+\", \"\", text)\n",
    "    # Remove mentions\n",
    "    text = re.sub(r\"@\\w+\", \"\", text)\n",
    "    # Remove hashtags (keep the word)\n",
    "    text = re.sub(r\"#\", \"\", text)\n",
    "    # Optional: remove emojis\n",
    "    text = re.sub(r\"[^\\w\\s,.!?]\", \"\", text)\n",
    "    # Normalize spaces\n",
    "    text = re.sub(r\"\\s+\", \" \", text).strip()\n",
    "    return text.lower()\n",
    "\n",
    "\n",
    "# Apply cleaning\n",
    "for post in data:\n",
    "    \n",
    "    post[\"clean_content\"] = clean_text(post[\"content\"])\n",
    "\n",
    "with open(\"sample_posts.jsonl\", \"w\", encoding=\"utf-8\") as f:\n",
    "    for post in data:\n",
    "        f.write(json.dumps(post, ensure_ascii=False) + \"\\n\")\n",
    "\n",
    "print(\"Updated sample_posts.jsonl with cleaned content successfully!\")\n",
    "\n",
    "# Example\n",
    "print(data[0][\"clean_content\"])\n",
    "print(data[1][\"clean_content\"])\n"
   ]
  },
  {
   "cell_type": "code",
   "execution_count": 5,
   "id": "89f27e82",
   "metadata": {},
   "outputs": [
    {
     "name": "stderr",
     "output_type": "stream",
     "text": [
      "c:\\Users\\patel\\OneDrive\\Desktop\\Hackathon\\venv\\Lib\\site-packages\\tqdm\\auto.py:21: TqdmWarning: IProgress not found. Please update jupyter and ipywidgets. See https://ipywidgets.readthedocs.io/en/stable/user_install.html\n",
      "  from .autonotebook import tqdm as notebook_tqdm\n"
     ]
    },
    {
     "name": "stdout",
     "output_type": "stream",
     "text": [
      "Embeddings added for first post: 384\n"
     ]
    }
   ],
   "source": [
    "from sentence_transformers import SentenceTransformer\n",
    "\n",
    "# Load a small embedding model\n",
    "model = SentenceTransformer('all-MiniLM-L6-v2')  # lightweight, good for prototyping\n",
    "\n",
    "# Compute embeddings for all posts\n",
    "for post in data:\n",
    "    post[\"embedding\"] = model.encode(post[\"clean_content\"]).tolist()\n",
    "    post[\"embedding_model\"] = \"all-MiniLM-L6-v2\"\n",
    "\n",
    "print(\"Embeddings added for first post:\", len(data[0][\"embedding\"]))\n"
   ]
  },
  {
   "cell_type": "code",
   "execution_count": 7,
   "id": "01b45c83",
   "metadata": {},
   "outputs": [
    {
     "name": "stdout",
     "output_type": "stream",
     "text": [
      "Enriched posts saved to tata_data_embedded.jsonl\n"
     ]
    }
   ],
   "source": [
    "with open(\"tata_data_embedded.jsonl\", \"w\", encoding=\"utf-8\") as f:\n",
    "    for post in data:\n",
    "        f.write(json.dumps(post, ensure_ascii=False) + \"\\n\")\n",
    "\n",
    "print(\"Enriched posts saved to tata_data_embedded.jsonl\")\n"
   ]
  }
 ],
 "metadata": {
  "kernelspec": {
   "display_name": "venv",
   "language": "python",
   "name": "python3"
  },
  "language_info": {
   "codemirror_mode": {
    "name": "ipython",
    "version": 3
   },
   "file_extension": ".py",
   "mimetype": "text/x-python",
   "name": "python",
   "nbconvert_exporter": "python",
   "pygments_lexer": "ipython3",
   "version": "3.11.0"
  }
 },
 "nbformat": 4,
 "nbformat_minor": 5
}
